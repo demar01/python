{
  "nbformat": 4,
  "nbformat_minor": 0,
  "metadata": {
    "kernelspec": {
      "name": "python385jvsc74a57bd0362ff7db5a262188e70731eb42f51e2adb0614fa1ed5c152d2d9407ddb56316e",
      "display_name": "Python 3.8.5 64-bit ('base': conda)"
    },
    "language_info": {
      "codemirror_mode": {
        "name": "ipython",
        "version": 3
      },
      "file_extension": ".py",
      "mimetype": "text/x-python",
      "name": "python",
      "nbconvert_exporter": "python",
      "pygments_lexer": "ipython3",
      "version": "3.8.5-final"
    },
    "colab": {
      "name": "Intro to kNNs.ipynb",
      "provenance": []
    }
  },
  "cells": [
    {
      "cell_type": "markdown",
      "metadata": {
        "id": "WC19_txgi4uz"
      },
      "source": [
        "<h1>Data cleaning with pandas main operations</h1>\n"
      ]
    },
    {
      "cell_type": "code",
      "metadata": {
        "id": "ptBYkiCRi4vH"
      },
      "source": [
        "import pandas as pd\n",
        "import numpy as np"
      ],
      "execution_count": 2,
      "outputs": []
    },
    {
      "cell_type": "code",
      "execution_count": 25,
      "metadata": {},
      "outputs": [
        {
          "output_type": "execute_result",
          "data": {
            "text/plain": [
              "(8287, 15)"
            ]
          },
          "metadata": {},
          "execution_count": 25
        }
      ],
      "source": [
        "df = pd.read_csv('BL-Flickr-Images-Book.csv')\n",
        "df.head()\n",
        "df.shape"
      ]
    },
    {
      "source": [
        "Dropping columns"
      ],
      "cell_type": "markdown",
      "metadata": {}
    },
    {
      "source": [
        "to_drop = ['Edition Statement',\n",
        "               'Corporate Author',\n",
        "               'Corporate Contributors',\n",
        "               'Former owner',\n",
        "               'Engraver',\n",
        "               'Contributors',\n",
        "               'Issuance type',\n",
        "               'Shelfmarks']"
      ],
      "cell_type": "code",
      "metadata": {},
      "execution_count": 27,
      "outputs": []
    },
    {
      "source": [
        "df.drop(to_drop, inplace=True, axis=1)"
      ],
      "cell_type": "code",
      "metadata": {
        "id": "I1QsrxeDi4v1"
      },
      "execution_count": 28,
      "outputs": []
    },
    {
      "cell_type": "code",
      "metadata": {
        "id": "7w_ka_uLi4v1"
      },
      "source": [
        "df.shape"
      ],
      "execution_count": 29,
      "outputs": [
        {
          "output_type": "execute_result",
          "data": {
            "text/plain": [
              "(8287, 7)"
            ]
          },
          "metadata": {},
          "execution_count": 29
        }
      ]
    },
    {
      "source": [
        "Changing the Index of a DataFrame"
      ],
      "cell_type": "markdown",
      "metadata": {}
    },
    {
      "cell_type": "code",
      "execution_count": 30,
      "metadata": {},
      "outputs": [
        {
          "output_type": "execute_result",
          "data": {
            "text/plain": [
              "True"
            ]
          },
          "metadata": {},
          "execution_count": 30
        }
      ],
      "source": [
        "df['Identifier'].is_unique"
      ]
    },
    {
      "cell_type": "code",
      "execution_count": 32,
      "metadata": {},
      "outputs": [],
      "source": [
        "# replace the existing index with this column using set_index\n",
        "df = df.set_index('Identifier')\n",
        "# or\n",
        "# df.set_index('Identifier', inplace=True)"
      ]
    },
    {
      "source": [
        "Access each record in a straightforward way with loc[]"
      ],
      "cell_type": "markdown",
      "metadata": {}
    },
    {
      "cell_type": "code",
      "execution_count": 31,
      "metadata": {},
      "outputs": [
        {
          "output_type": "execute_result",
          "data": {
            "text/plain": [
              "Identifier                                                          77554\n",
              "Place of Publication                                               London\n",
              "Date of Publication                                                  1848\n",
              "Publisher                                                 Richard Bentley\n",
              "Title                   Rambles in the romantic regions of the Hartz M...\n",
              "Author                                   Andersen, H. C. (Hans Christian)\n",
              "Flickr URL              http://www.flickr.com/photos/britishlibrary/ta...\n",
              "Name: 206, dtype: object"
            ]
          },
          "metadata": {},
          "execution_count": 31
        }
      ],
      "source": [
        "df.loc[206]"
      ]
    },
    {
      "cell_type": "code",
      "execution_count": 34,
      "metadata": {},
      "outputs": [
        {
          "output_type": "execute_result",
          "data": {
            "text/plain": [
              "object    6\n",
              "dtype: int64"
            ]
          },
          "metadata": {},
          "execution_count": 34
        }
      ],
      "source": [
        "df.dtypes.value_counts()"
      ]
    },
    {
      "source": [
        "Let's have a look at date of publication. We may need ot do some data cleaning with dates"
      ],
      "cell_type": "markdown",
      "metadata": {}
    },
    {
      "cell_type": "code",
      "execution_count": 35,
      "metadata": {},
      "outputs": [
        {
          "output_type": "execute_result",
          "data": {
            "text/plain": [
              "Identifier\n",
              "1905           1888\n",
              "1929    1839, 38-54\n",
              "2836           1897\n",
              "2854           1865\n",
              "2956        1860-63\n",
              "2957           1873\n",
              "3017           1866\n",
              "3131           1899\n",
              "4598           1814\n",
              "4884           1820\n",
              "Name: Date of Publication, dtype: object"
            ]
          },
          "metadata": {},
          "execution_count": 35
        }
      ],
      "source": [
        "df.loc[1905:, 'Date of Publication'].head(10)"
      ]
    },
    {
      "source": [
        "Indeed. What we need to do is:\n",
        "- Remove the extra dates in square brackets, wherever present: 1879 [1878]\n",
        "- Convert date ranges to their “start date”, wherever present: 1860-63; 1839, 38-54\n",
        "- Completely remove the dates we are not certain about and replace them with NumPy’s NaN: [1897?]\n",
        "- Convert the string nan to NumPy’s NaN value\n"
      ],
      "cell_type": "markdown",
      "metadata": {}
    },
    {
      "cell_type": "code",
      "execution_count": 38,
      "metadata": {},
      "outputs": [
        {
          "output_type": "execute_result",
          "data": {
            "text/plain": [
              "Identifier\n",
              "206    1879\n",
              "216    1868\n",
              "218    1869\n",
              "472    1851\n",
              "480    1857\n",
              "Name: Date of Publication, dtype: object"
            ]
          },
          "metadata": {},
          "execution_count": 38
        }
      ],
      "source": [
        "extr = df['Date of Publication'].str.extract(r'^(\\d{4})', expand=False)\n",
        "extr.head()"
      ]
    },
    {
      "cell_type": "code",
      "execution_count": 42,
      "metadata": {},
      "outputs": [
        {
          "output_type": "execute_result",
          "data": {
            "text/plain": [
              "dtype('float64')"
            ]
          },
          "metadata": {},
          "execution_count": 42
        }
      ],
      "source": [
        "df['Date of Publication'].dtype\n",
        "df['Date of Publication'] = pd.to_numeric(extr)\n",
        "df['Date of Publication'].dtype"
      ]
    },
    {
      "cell_type": "code",
      "execution_count": 44,
      "metadata": {},
      "outputs": [
        {
          "output_type": "execute_result",
          "data": {
            "text/plain": [
              "0.11717147339205986"
            ]
          },
          "metadata": {},
          "execution_count": 44
        }
      ],
      "source": [
        "df['Date of Publication'].isnull().sum() / len(df)"
      ]
    },
    {
      "source": [
        "Cleaning columns using the .apply function"
      ],
      "cell_type": "markdown",
      "metadata": {}
    },
    {
      "cell_type": "code",
      "execution_count": 52,
      "metadata": {},
      "outputs": [],
      "source": [
        "unwanted_characters = ['[', ',', '-']\n",
        "\n",
        "def clean_dates(item):\n",
        "    dop= str(item.loc['Date of Publication'])\n",
        "    \n",
        "    if dop == 'nan' or dop[0] == '[':\n",
        "        return np.NaN\n",
        "    \n",
        "    for character in unwanted_characters:\n",
        "        if character in dop:\n",
        "            character_index = dop.find(character)\n",
        "            dop = dop[:character_index]\n",
        "    \n",
        "    return dop\n",
        "\n",
        "df['Date of Publication'] = df.apply(clean_dates, axis = 1)\n"
      ]
    },
    {
      "source": [
        "df.head()"
      ],
      "cell_type": "code",
      "metadata": {},
      "execution_count": 53,
      "outputs": [
        {
          "output_type": "execute_result",
          "data": {
            "text/plain": [
              "           Place of Publication Date of Publication              Publisher  \\\n",
              "Identifier                                                                   \n",
              "206                      London              1879.0       S. Tinsley & Co.   \n",
              "216                      London              1868.0           Virtue & Co.   \n",
              "218                      London              1869.0  Bradbury, Evans & Co.   \n",
              "472                      London              1851.0          James Darling   \n",
              "480                      London              1857.0   Wertheim & Macintosh   \n",
              "\n",
              "                                                        Title     Author  \\\n",
              "Identifier                                                                 \n",
              "206                         Walter Forbes. [A novel.] By A. A      A. A.   \n",
              "216         All for Greed. [A novel. The dedication signed...  A., A. A.   \n",
              "218         Love the Avenger. By the author of “All for Gr...  A., A. A.   \n",
              "472         Welsh Sketches, chiefly ecclesiastical, to the...  A., E. S.   \n",
              "480         [The World in which I live, and my place in it...  A., E. S.   \n",
              "\n",
              "                                                   Flickr URL  \n",
              "Identifier                                                     \n",
              "206         http://www.flickr.com/photos/britishlibrary/ta...  \n",
              "216         http://www.flickr.com/photos/britishlibrary/ta...  \n",
              "218         http://www.flickr.com/photos/britishlibrary/ta...  \n",
              "472         http://www.flickr.com/photos/britishlibrary/ta...  \n",
              "480         http://www.flickr.com/photos/britishlibrary/ta...  "
            ],
            "text/html": "<div>\n<style scoped>\n    .dataframe tbody tr th:only-of-type {\n        vertical-align: middle;\n    }\n\n    .dataframe tbody tr th {\n        vertical-align: top;\n    }\n\n    .dataframe thead th {\n        text-align: right;\n    }\n</style>\n<table border=\"1\" class=\"dataframe\">\n  <thead>\n    <tr style=\"text-align: right;\">\n      <th></th>\n      <th>Place of Publication</th>\n      <th>Date of Publication</th>\n      <th>Publisher</th>\n      <th>Title</th>\n      <th>Author</th>\n      <th>Flickr URL</th>\n    </tr>\n    <tr>\n      <th>Identifier</th>\n      <th></th>\n      <th></th>\n      <th></th>\n      <th></th>\n      <th></th>\n      <th></th>\n    </tr>\n  </thead>\n  <tbody>\n    <tr>\n      <th>206</th>\n      <td>London</td>\n      <td>1879.0</td>\n      <td>S. Tinsley &amp; Co.</td>\n      <td>Walter Forbes. [A novel.] By A. A</td>\n      <td>A. A.</td>\n      <td>http://www.flickr.com/photos/britishlibrary/ta...</td>\n    </tr>\n    <tr>\n      <th>216</th>\n      <td>London</td>\n      <td>1868.0</td>\n      <td>Virtue &amp; Co.</td>\n      <td>All for Greed. [A novel. The dedication signed...</td>\n      <td>A., A. A.</td>\n      <td>http://www.flickr.com/photos/britishlibrary/ta...</td>\n    </tr>\n    <tr>\n      <th>218</th>\n      <td>London</td>\n      <td>1869.0</td>\n      <td>Bradbury, Evans &amp; Co.</td>\n      <td>Love the Avenger. By the author of “All for Gr...</td>\n      <td>A., A. A.</td>\n      <td>http://www.flickr.com/photos/britishlibrary/ta...</td>\n    </tr>\n    <tr>\n      <th>472</th>\n      <td>London</td>\n      <td>1851.0</td>\n      <td>James Darling</td>\n      <td>Welsh Sketches, chiefly ecclesiastical, to the...</td>\n      <td>A., E. S.</td>\n      <td>http://www.flickr.com/photos/britishlibrary/ta...</td>\n    </tr>\n    <tr>\n      <th>480</th>\n      <td>London</td>\n      <td>1857.0</td>\n      <td>Wertheim &amp; Macintosh</td>\n      <td>[The World in which I live, and my place in it...</td>\n      <td>A., E. S.</td>\n      <td>http://www.flickr.com/photos/britishlibrary/ta...</td>\n    </tr>\n  </tbody>\n</table>\n</div>"
          },
          "metadata": {},
          "execution_count": 53
        }
      ]
    },
    {
      "source": [
        "Let's have a look at place of publication. We may need ot do some data cleaning with place and np.where"
      ],
      "cell_type": "markdown",
      "metadata": {}
    },
    {
      "cell_type": "code",
      "execution_count": 45,
      "metadata": {},
      "outputs": [
        {
          "output_type": "execute_result",
          "data": {
            "text/plain": [
              "Identifier\n",
              "206                                  London\n",
              "216                London; Virtue & Yorston\n",
              "218                                  London\n",
              "472                                  London\n",
              "480                                  London\n",
              "481                                  London\n",
              "519                                  London\n",
              "667     pp. 40. G. Bryan & Co: Oxford, 1898\n",
              "874                                 London]\n",
              "1143                                 London\n",
              "Name: Place of Publication, dtype: object"
            ]
          },
          "metadata": {},
          "execution_count": 45
        }
      ],
      "source": [
        "df['Place of Publication'].head(10)"
      ]
    },
    {
      "cell_type": "code",
      "execution_count": 49,
      "metadata": {},
      "outputs": [],
      "source": [
        "pub = df['Place of Publication']\n",
        "london = pub.str.contains('London')\n",
        "london[:5]\n",
        "oxford = pub.str.contains('Oxford')"
      ]
    },
    {
      "cell_type": "code",
      "execution_count": 50,
      "metadata": {},
      "outputs": [
        {
          "output_type": "execute_result",
          "data": {
            "text/plain": [
              "Identifier\n",
              "206    London\n",
              "216    London\n",
              "218    London\n",
              "472    London\n",
              "480    London\n",
              "Name: Place of Publication, dtype: object"
            ]
          },
          "metadata": {},
          "execution_count": 50
        }
      ],
      "source": [
        "df['Place of Publication'] = np.where(london, 'London',\n",
        "                                      np.where(oxford, 'Oxford',\n",
        "                                               pub.str.replace('-', ' ')))\n",
        "\n",
        "df['Place of Publication'].head()"
      ]
    },
    {
      "source": [
        "An alternative way to do that could be"
      ],
      "cell_type": "markdown",
      "metadata": {}
    },
    {
      "cell_type": "code",
      "execution_count": 54,
      "metadata": {},
      "outputs": [],
      "source": [
        "pub = df['Place of Publication']\n",
        "df['Place of Publication'] = np.where(pub.str.contains('London'), 'London',\n",
        "    np.where(pub.str.contains('Oxford'), 'Oxford',\n",
        "        np.where(pub.eq('Newcastle upon Tyne'),\n",
        "            'Newcastle-upon-Tyne', df['Place of Publication'])))"
      ]
    },
    {
      "source": [
        "df.tail()"
      ],
      "cell_type": "code",
      "metadata": {},
      "execution_count": 56,
      "outputs": [
        {
          "output_type": "execute_result",
          "data": {
            "text/plain": [
              "           Place of Publication Date of Publication                Publisher  \\\n",
              "Identifier                                                                     \n",
              "4158088                  London              1838.0                      NaN   \n",
              "4158128                   Derby              1831.0          M. Mozley & Son   \n",
              "4159563                  London                 NaN  T. Cadell and W. Davies   \n",
              "4159587     Newcastle-upon-Tyne              1834.0         Mackenzie & Dent   \n",
              "4160339                  London              1834.0                      NaN   \n",
              "\n",
              "                                                        Title  \\\n",
              "Identifier                                                      \n",
              "4158088     The Parochial History of Cornwall, founded on,...   \n",
              "4158128     The History and Gazetteer of the County of Der...   \n",
              "4159563     Magna Britannia; being a concise topographical...   \n",
              "4159587     An historical, topographical and descriptive v...   \n",
              "4160339     Collectanea Topographica et Genealogica. [Firs...   \n",
              "\n",
              "                                                       Author  \\\n",
              "Identifier                                                      \n",
              "4158088                    GIDDY, afterwards GILBERT, Davies.   \n",
              "4158128                            GLOVER, Stephen - of Derby   \n",
              "4159563     LYSONS, Daniel - M.A., F.R.S., and LYSONS (Sam...   \n",
              "4159587                                 Mackenzie, E. (Eneas)   \n",
              "4160339                                                   NaN   \n",
              "\n",
              "                                                   Flickr URL  \n",
              "Identifier                                                     \n",
              "4158088     http://www.flickr.com/photos/britishlibrary/ta...  \n",
              "4158128     http://www.flickr.com/photos/britishlibrary/ta...  \n",
              "4159563     http://www.flickr.com/photos/britishlibrary/ta...  \n",
              "4159587     http://www.flickr.com/photos/britishlibrary/ta...  \n",
              "4160339     http://www.flickr.com/photos/britishlibrary/ta...  "
            ],
            "text/html": "<div>\n<style scoped>\n    .dataframe tbody tr th:only-of-type {\n        vertical-align: middle;\n    }\n\n    .dataframe tbody tr th {\n        vertical-align: top;\n    }\n\n    .dataframe thead th {\n        text-align: right;\n    }\n</style>\n<table border=\"1\" class=\"dataframe\">\n  <thead>\n    <tr style=\"text-align: right;\">\n      <th></th>\n      <th>Place of Publication</th>\n      <th>Date of Publication</th>\n      <th>Publisher</th>\n      <th>Title</th>\n      <th>Author</th>\n      <th>Flickr URL</th>\n    </tr>\n    <tr>\n      <th>Identifier</th>\n      <th></th>\n      <th></th>\n      <th></th>\n      <th></th>\n      <th></th>\n      <th></th>\n    </tr>\n  </thead>\n  <tbody>\n    <tr>\n      <th>4158088</th>\n      <td>London</td>\n      <td>1838.0</td>\n      <td>NaN</td>\n      <td>The Parochial History of Cornwall, founded on,...</td>\n      <td>GIDDY, afterwards GILBERT, Davies.</td>\n      <td>http://www.flickr.com/photos/britishlibrary/ta...</td>\n    </tr>\n    <tr>\n      <th>4158128</th>\n      <td>Derby</td>\n      <td>1831.0</td>\n      <td>M. Mozley &amp; Son</td>\n      <td>The History and Gazetteer of the County of Der...</td>\n      <td>GLOVER, Stephen - of Derby</td>\n      <td>http://www.flickr.com/photos/britishlibrary/ta...</td>\n    </tr>\n    <tr>\n      <th>4159563</th>\n      <td>London</td>\n      <td>NaN</td>\n      <td>T. Cadell and W. Davies</td>\n      <td>Magna Britannia; being a concise topographical...</td>\n      <td>LYSONS, Daniel - M.A., F.R.S., and LYSONS (Sam...</td>\n      <td>http://www.flickr.com/photos/britishlibrary/ta...</td>\n    </tr>\n    <tr>\n      <th>4159587</th>\n      <td>Newcastle-upon-Tyne</td>\n      <td>1834.0</td>\n      <td>Mackenzie &amp; Dent</td>\n      <td>An historical, topographical and descriptive v...</td>\n      <td>Mackenzie, E. (Eneas)</td>\n      <td>http://www.flickr.com/photos/britishlibrary/ta...</td>\n    </tr>\n    <tr>\n      <th>4160339</th>\n      <td>London</td>\n      <td>1834.0</td>\n      <td>NaN</td>\n      <td>Collectanea Topographica et Genealogica. [Firs...</td>\n      <td>NaN</td>\n      <td>http://www.flickr.com/photos/britishlibrary/ta...</td>\n    </tr>\n  </tbody>\n</table>\n</div>"
          },
          "metadata": {},
          "execution_count": 56
        }
      ]
    },
    {
      "source": [
        "Cleaning the Entire Dataset Using the applymap Function"
      ],
      "cell_type": "markdown",
      "metadata": {}
    },
    {
      "cell_type": "code",
      "execution_count": 58,
      "metadata": {},
      "outputs": [
        {
          "output_type": "execute_result",
          "data": {
            "text/plain": [
              "             State                                         RegionName\n",
              "0  Alabama[edit]\\n                    Auburn (Auburn University)[1]\\n\n",
              "1  Alabama[edit]\\n           Florence (University of North Alabama)\\n\n",
              "2  Alabama[edit]\\n  Jacksonville (Jacksonville State University)[2]\\n\n",
              "3  Alabama[edit]\\n       Livingston (University of West Alabama)[2]\\n\n",
              "4  Alabama[edit]\\n         Montevallo (University of Montevallo)[2]\\n"
            ],
            "text/html": "<div>\n<style scoped>\n    .dataframe tbody tr th:only-of-type {\n        vertical-align: middle;\n    }\n\n    .dataframe tbody tr th {\n        vertical-align: top;\n    }\n\n    .dataframe thead th {\n        text-align: right;\n    }\n</style>\n<table border=\"1\" class=\"dataframe\">\n  <thead>\n    <tr style=\"text-align: right;\">\n      <th></th>\n      <th>State</th>\n      <th>RegionName</th>\n    </tr>\n  </thead>\n  <tbody>\n    <tr>\n      <th>0</th>\n      <td>Alabama[edit]\\n</td>\n      <td>Auburn (Auburn University)[1]\\n</td>\n    </tr>\n    <tr>\n      <th>1</th>\n      <td>Alabama[edit]\\n</td>\n      <td>Florence (University of North Alabama)\\n</td>\n    </tr>\n    <tr>\n      <th>2</th>\n      <td>Alabama[edit]\\n</td>\n      <td>Jacksonville (Jacksonville State University)[2]\\n</td>\n    </tr>\n    <tr>\n      <th>3</th>\n      <td>Alabama[edit]\\n</td>\n      <td>Livingston (University of West Alabama)[2]\\n</td>\n    </tr>\n    <tr>\n      <th>4</th>\n      <td>Alabama[edit]\\n</td>\n      <td>Montevallo (University of Montevallo)[2]\\n</td>\n    </tr>\n  </tbody>\n</table>\n</div>"
          },
          "metadata": {},
          "execution_count": 58
        }
      ],
      "source": [
        "\n",
        "university_towns = []\n",
        "\n",
        "with open('university_towns.txt', 'r') as file:\n",
        "    items = file.readlines()\n",
        "    states = list(filter(lambda x: '[edit]' in x, items))\n",
        "    \n",
        "    for index, state in enumerate(states):\n",
        "        start = items.index(state) + 1\n",
        "        if index == 49: #since 50 states\n",
        "            end = len(items)\n",
        "        else:\n",
        "            end = items.index(states[index + 1])\n",
        "            \n",
        "        pairs = map(lambda x: [state, x], items[start:end])\n",
        "        university_towns.extend(pairs)\n",
        "        \n",
        "towns_df = pd.DataFrame(university_towns, columns = ['State', 'RegionName'])\n",
        "towns_df.head()"
      ]
    },
    {
      "cell_type": "code",
      "execution_count": 59,
      "metadata": {},
      "outputs": [
        {
          "output_type": "execute_result",
          "data": {
            "text/plain": [
              "     State    RegionName\n",
              "0  Alabama        Auburn\n",
              "1  Alabama      Florence\n",
              "2  Alabama  Jacksonville\n",
              "3  Alabama    Livingston\n",
              "4  Alabama    Montevallo"
            ],
            "text/html": "<div>\n<style scoped>\n    .dataframe tbody tr th:only-of-type {\n        vertical-align: middle;\n    }\n\n    .dataframe tbody tr th {\n        vertical-align: top;\n    }\n\n    .dataframe thead th {\n        text-align: right;\n    }\n</style>\n<table border=\"1\" class=\"dataframe\">\n  <thead>\n    <tr style=\"text-align: right;\">\n      <th></th>\n      <th>State</th>\n      <th>RegionName</th>\n    </tr>\n  </thead>\n  <tbody>\n    <tr>\n      <th>0</th>\n      <td>Alabama</td>\n      <td>Auburn</td>\n    </tr>\n    <tr>\n      <th>1</th>\n      <td>Alabama</td>\n      <td>Florence</td>\n    </tr>\n    <tr>\n      <th>2</th>\n      <td>Alabama</td>\n      <td>Jacksonville</td>\n    </tr>\n    <tr>\n      <th>3</th>\n      <td>Alabama</td>\n      <td>Livingston</td>\n    </tr>\n    <tr>\n      <th>4</th>\n      <td>Alabama</td>\n      <td>Montevallo</td>\n    </tr>\n  </tbody>\n</table>\n</div>"
          },
          "metadata": {},
          "execution_count": 59
        }
      ],
      "source": [
        "towns_df = pd.DataFrame(university_towns,  columns=['State', 'RegionName'])\n",
        "\n",
        "def clean_up(item):\n",
        "    if '(' in item:\n",
        "        return item[:item.find('(') - 1]\n",
        "    \n",
        "    if '[' in item:\n",
        "        return item[:item.find('[')]\n",
        "    \n",
        "\n",
        "towns_df =  towns_df.applymap(clean_up)\n",
        "towns_df.head()\n"
      ]
    }
  ]
}